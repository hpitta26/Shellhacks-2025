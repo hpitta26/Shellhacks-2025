{
 "cells": [
  {
   "cell_type": "markdown",
   "id": "229df84f",
   "metadata": {},
   "source": [
    "Test out translation workflow here"
   ]
  },
  {
   "cell_type": "code",
   "execution_count": null,
   "id": "86693ce2",
   "metadata": {},
   "outputs": [],
   "source": [
    "# Python code goes here"
   ]
  }
 ],
 "metadata": {
  "language_info": {
   "name": "python"
  }
 },
 "nbformat": 4,
 "nbformat_minor": 5
}
